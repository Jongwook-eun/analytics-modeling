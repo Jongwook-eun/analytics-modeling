{
 "cells": [
  {
   "cell_type": "code",
   "execution_count": 9,
   "id": "2f44e551",
   "metadata": {},
   "outputs": [],
   "source": [
    "import simpy\n",
    "import random\n",
    "import statistics\n",
    "\n",
    "# ---------------------------\n",
    "# PARAMETERS\n",
    "# ---------------------------\n",
    "LAMBDA_ARRIVAL = 5        # 평균 5명/분 도착\n",
    "MEAN_ID_TIME = 0.75       # ID체크 평균시간 (지수분포)\n",
    "PERSONAL_MIN = 0.5        # 개인검색 최소\n",
    "PERSONAL_MAX = 1.0        # 개인검색 최대\n",
    "SIM_TIME = 5000           # 시뮬레이션 시간 (분)\n",
    "\n",
    "# ---------------------------\n",
    "# DATA COLLECTION\n",
    "# ---------------------------\n",
    "wait_times = []  # 전체 시스템 체류시간 저장\n",
    "\n",
    "# ---------------------------\n",
    "# FUNCTIONS\n",
    "# ---------------------------\n",
    "def passenger(env, name, id_checker, personal_queues):\n",
    "    \"\"\"각 승객의 흐름\"\"\"\n",
    "    arrival_time = env.now\n",
    "\n",
    "    # 1️⃣ ID 체크 단계\n",
    "    with id_checker.request() as req:\n",
    "        yield req\n",
    "        service_time = random.expovariate(1.0 / MEAN_ID_TIME)\n",
    "        yield env.timeout(service_time)\n",
    "\n",
    "    # 2️⃣ 개인 검색 단계 (가장 짧은 줄 선택)\n",
    "    shortest_queue = min(personal_queues, key=lambda q: len(q.queue))\n",
    "    with shortest_queue.request() as req2:\n",
    "        yield req2\n",
    "        service_time2 = random.uniform(PERSONAL_MIN, PERSONAL_MAX)\n",
    "        yield env.timeout(service_time2)\n",
    "\n",
    "    # 종료 시점 기록\n",
    "    total_time = env.now - arrival_time\n",
    "    wait_times.append(total_time)\n",
    "\n",
    "def passenger_generator(env, id_checker, personal_queues):\n",
    "    \"\"\"포아송 도착\"\"\"\n",
    "    i = 0\n",
    "    while True:\n",
    "        i += 1\n",
    "        yield env.timeout(random.expovariate(LAMBDA_ARRIVAL))\n",
    "        env.process(passenger(env, f\"Passenger {i}\", id_checker, personal_queues))"
   ]
  },
  {
   "cell_type": "code",
   "execution_count": 10,
   "id": "df3bc7cc",
   "metadata": {},
   "outputs": [
    {
     "name": "stdout",
     "output_type": "stream",
     "text": [
      "ID=2, Personal=3 → Avg total time: 1167.99 min\n",
      "ID=2, Personal=4 → Avg total time: 1142.93 min\n",
      "ID=2, Personal=5 → Avg total time: 1143.00 min\n",
      "ID=2, Personal=6 → Avg total time: 1155.39 min\n",
      "ID=3, Personal=3 → Avg total time: 518.32 min\n",
      "ID=3, Personal=4 → Avg total time: 498.19 min\n",
      "ID=3, Personal=5 → Avg total time: 462.25 min\n",
      "ID=3, Personal=6 → Avg total time: 472.05 min\n",
      "ID=4, Personal=3 → Avg total time: 478.22 min\n",
      "ID=4, Personal=4 → Avg total time: 5.91 min\n",
      "ID=4, Personal=5 → Avg total time: 4.32 min\n",
      "ID=4, Personal=6 → Avg total time: 4.58 min\n",
      "ID=5, Personal=3 → Avg total time: 498.31 min\n",
      "ID=5, Personal=4 → Avg total time: 3.48 min\n",
      "ID=5, Personal=5 → Avg total time: 2.24 min\n",
      "ID=5, Personal=6 → Avg total time: 2.17 min\n"
     ]
    }
   ],
   "source": [
    "# ---------------------------\n",
    "# SIMULATION RUNNER\n",
    "# ---------------------------\n",
    "def run_simulation(n_id, n_personal, sim_time=SIM_TIME):\n",
    "    random.seed(20251022)\n",
    "    env = simpy.Environment()\n",
    "    id_checker = simpy.Resource(env, capacity=n_id)\n",
    "    personal_queues = [simpy.Resource(env, capacity=1) for _ in range(n_personal)]\n",
    "\n",
    "    env.process(passenger_generator(env, id_checker, personal_queues))\n",
    "    env.run(until=sim_time)\n",
    "\n",
    "    avg_time = statistics.mean(wait_times)\n",
    "    return avg_time\n",
    "\n",
    "# ---------------------------\n",
    "# EXPERIMENT\n",
    "# ---------------------------\n",
    "for id_checkers in [2, 3, 4, 5]:\n",
    "    for personals in [3, 4, 5, 6]:\n",
    "        wait_times.clear()\n",
    "        avg = run_simulation(id_checkers, personals)\n",
    "        print(f\"ID={id_checkers}, Personal={personals} → Avg total time: {avg:.2f} min\")"
   ]
  }
 ],
 "metadata": {
  "kernelspec": {
   "display_name": "Python 3",
   "language": "python",
   "name": "python3"
  },
  "language_info": {
   "codemirror_mode": {
    "name": "ipython",
    "version": 3
   },
   "file_extension": ".py",
   "mimetype": "text/x-python",
   "name": "python",
   "nbconvert_exporter": "python",
   "pygments_lexer": "ipython3",
   "version": "3.12.8"
  }
 },
 "nbformat": 4,
 "nbformat_minor": 5
}
